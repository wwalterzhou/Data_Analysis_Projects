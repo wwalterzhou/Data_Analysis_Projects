{
  "metadata": {
    "kernelspec": {
      "name": "python",
      "display_name": "Python (Pyodide)",
      "language": "python"
    },
    "language_info": {
      "codemirror_mode": {
        "name": "python",
        "version": 3
      },
      "file_extension": ".py",
      "mimetype": "text/x-python",
      "name": "python",
      "nbconvert_exporter": "python",
      "pygments_lexer": "ipython3",
      "version": "3.8"
    },
    "toc": {
      "base_numbering": 1
    }
  },
  "nbformat_minor": 4,
  "nbformat": 4,
  "cells": [
    {
      "cell_type": "code",
      "source": "import numpy as np\nimport pandas as pd\nimport matplotlib.pyplot as plt",
      "metadata": {
        "trusted": true
      },
      "outputs": [],
      "execution_count": 4
    },
    {
      "cell_type": "markdown",
      "source": "# IMPORT DATA",
      "metadata": {}
    },
    {
      "cell_type": "code",
      "source": "df = pd.read_csv('Order_Info.csv',index_col='id')\ndf.head()",
      "metadata": {
        "trusted": true
      },
      "outputs": [
        {
          "execution_count": 30,
          "output_type": "execute_result",
          "data": {
            "text/plain": "      orderId   userId  productId  cityId   price  payMoney   channelId  \\\nid                                                                        \n1   232148841  2794924        268  110001   35300     35300  9058255c90   \n2   222298971  1664684        801  330001   51200     49900  e0e6019897   \n3   211494392  2669372        934  220002   62100     62100  9058255c90   \n4   334575272  1924727        422  230001   50600     42000  46d5cea30d   \n5   144825651  4148671        473  130006  149100    142000  6ff1752b69   \n\n    deviceType        createTime           payTime  \nid                                                  \n1            3  01/01/2020 12:53  01/01/2020 12:53  \n2            2  01/01/2020 21:42  01/01/2020 21:43  \n3            3  01/01/2020 14:10  01/01/2020 14:11  \n4            2  01/01/2020 17:43  01/01/2020 17:43  \n5            2  01/01/2020 18:52  01/01/2020 18:52  ",
            "text/html": "<div>\n<style scoped>\n    .dataframe tbody tr th:only-of-type {\n        vertical-align: middle;\n    }\n\n    .dataframe tbody tr th {\n        vertical-align: top;\n    }\n\n    .dataframe thead th {\n        text-align: right;\n    }\n</style>\n<table border=\"1\" class=\"dataframe\">\n  <thead>\n    <tr style=\"text-align: right;\">\n      <th></th>\n      <th>orderId</th>\n      <th>userId</th>\n      <th>productId</th>\n      <th>cityId</th>\n      <th>price</th>\n      <th>payMoney</th>\n      <th>channelId</th>\n      <th>deviceType</th>\n      <th>createTime</th>\n      <th>payTime</th>\n    </tr>\n    <tr>\n      <th>id</th>\n      <th></th>\n      <th></th>\n      <th></th>\n      <th></th>\n      <th></th>\n      <th></th>\n      <th></th>\n      <th></th>\n      <th></th>\n      <th></th>\n    </tr>\n  </thead>\n  <tbody>\n    <tr>\n      <th>1</th>\n      <td>232148841</td>\n      <td>2794924</td>\n      <td>268</td>\n      <td>110001</td>\n      <td>35300</td>\n      <td>35300</td>\n      <td>9058255c90</td>\n      <td>3</td>\n      <td>01/01/2020 12:53</td>\n      <td>01/01/2020 12:53</td>\n    </tr>\n    <tr>\n      <th>2</th>\n      <td>222298971</td>\n      <td>1664684</td>\n      <td>801</td>\n      <td>330001</td>\n      <td>51200</td>\n      <td>49900</td>\n      <td>e0e6019897</td>\n      <td>2</td>\n      <td>01/01/2020 21:42</td>\n      <td>01/01/2020 21:43</td>\n    </tr>\n    <tr>\n      <th>3</th>\n      <td>211494392</td>\n      <td>2669372</td>\n      <td>934</td>\n      <td>220002</td>\n      <td>62100</td>\n      <td>62100</td>\n      <td>9058255c90</td>\n      <td>3</td>\n      <td>01/01/2020 14:10</td>\n      <td>01/01/2020 14:11</td>\n    </tr>\n    <tr>\n      <th>4</th>\n      <td>334575272</td>\n      <td>1924727</td>\n      <td>422</td>\n      <td>230001</td>\n      <td>50600</td>\n      <td>42000</td>\n      <td>46d5cea30d</td>\n      <td>2</td>\n      <td>01/01/2020 17:43</td>\n      <td>01/01/2020 17:43</td>\n    </tr>\n    <tr>\n      <th>5</th>\n      <td>144825651</td>\n      <td>4148671</td>\n      <td>473</td>\n      <td>130006</td>\n      <td>149100</td>\n      <td>142000</td>\n      <td>6ff1752b69</td>\n      <td>2</td>\n      <td>01/01/2020 18:52</td>\n      <td>01/01/2020 18:52</td>\n    </tr>\n  </tbody>\n</table>\n</div>"
          },
          "metadata": {}
        }
      ],
      "execution_count": 30
    },
    {
      "cell_type": "markdown",
      "source": "Observe the distribution of the data using the describe and info methods, respectively:",
      "metadata": {
        "tags": [],
        "editable": true,
        "slideshow": {
          "slide_type": ""
        }
      }
    },
    {
      "cell_type": "code",
      "source": "df.describe()",
      "metadata": {
        "trusted": true
      },
      "outputs": [
        {
          "execution_count": 21,
          "output_type": "execute_result",
          "data": {
            "text/plain": "            orderId        userId      productId         cityId         price  \\\ncount  1.045570e+05  1.045570e+05  104557.000000  104557.000000  1.045570e+05   \nmean   2.993341e+08  3.270527e+06     504.566275  154410.947225  9.167350e+04   \nstd    5.149818e+07  4.138208e+07     288.130647   72197.163762  9.158836e+04   \nmin    1.035627e+08  2.930600e+04       0.000000   30000.000000  6.000000e+02   \n25%    2.633627e+08  2.179538e+06     254.000000  100011.000000  3.790000e+04   \n50%    2.989828e+08  2.705995e+06     507.000000  150001.000000  5.920000e+04   \n75%    3.349972e+08  3.271237e+06     758.000000  220002.000000  1.080000e+05   \nmax    4.871430e+08  3.072939e+09    1000.000000  380001.000000  2.295600e+06   \n\n           payMoney     deviceType  \ncount  1.045570e+05  104557.000000  \nmean   8.686689e+04       2.385292  \nstd    9.072028e+04       0.648472  \nmin   -1.000000e+03       1.000000  \n25%    3.360000e+04       2.000000  \n50%    5.500000e+04       2.000000  \n75%    1.040000e+05       3.000000  \nmax    2.294200e+06       6.000000  ",
            "text/html": "<div>\n<style scoped>\n    .dataframe tbody tr th:only-of-type {\n        vertical-align: middle;\n    }\n\n    .dataframe tbody tr th {\n        vertical-align: top;\n    }\n\n    .dataframe thead th {\n        text-align: right;\n    }\n</style>\n<table border=\"1\" class=\"dataframe\">\n  <thead>\n    <tr style=\"text-align: right;\">\n      <th></th>\n      <th>orderId</th>\n      <th>userId</th>\n      <th>productId</th>\n      <th>cityId</th>\n      <th>price</th>\n      <th>payMoney</th>\n      <th>deviceType</th>\n    </tr>\n  </thead>\n  <tbody>\n    <tr>\n      <th>count</th>\n      <td>1.045570e+05</td>\n      <td>1.045570e+05</td>\n      <td>104557.000000</td>\n      <td>104557.000000</td>\n      <td>1.045570e+05</td>\n      <td>1.045570e+05</td>\n      <td>104557.000000</td>\n    </tr>\n    <tr>\n      <th>mean</th>\n      <td>2.993341e+08</td>\n      <td>3.270527e+06</td>\n      <td>504.566275</td>\n      <td>154410.947225</td>\n      <td>9.167350e+04</td>\n      <td>8.686689e+04</td>\n      <td>2.385292</td>\n    </tr>\n    <tr>\n      <th>std</th>\n      <td>5.149818e+07</td>\n      <td>4.138208e+07</td>\n      <td>288.130647</td>\n      <td>72197.163762</td>\n      <td>9.158836e+04</td>\n      <td>9.072028e+04</td>\n      <td>0.648472</td>\n    </tr>\n    <tr>\n      <th>min</th>\n      <td>1.035627e+08</td>\n      <td>2.930600e+04</td>\n      <td>0.000000</td>\n      <td>30000.000000</td>\n      <td>6.000000e+02</td>\n      <td>-1.000000e+03</td>\n      <td>1.000000</td>\n    </tr>\n    <tr>\n      <th>25%</th>\n      <td>2.633627e+08</td>\n      <td>2.179538e+06</td>\n      <td>254.000000</td>\n      <td>100011.000000</td>\n      <td>3.790000e+04</td>\n      <td>3.360000e+04</td>\n      <td>2.000000</td>\n    </tr>\n    <tr>\n      <th>50%</th>\n      <td>2.989828e+08</td>\n      <td>2.705995e+06</td>\n      <td>507.000000</td>\n      <td>150001.000000</td>\n      <td>5.920000e+04</td>\n      <td>5.500000e+04</td>\n      <td>2.000000</td>\n    </tr>\n    <tr>\n      <th>75%</th>\n      <td>3.349972e+08</td>\n      <td>3.271237e+06</td>\n      <td>758.000000</td>\n      <td>220002.000000</td>\n      <td>1.080000e+05</td>\n      <td>1.040000e+05</td>\n      <td>3.000000</td>\n    </tr>\n    <tr>\n      <th>max</th>\n      <td>4.871430e+08</td>\n      <td>3.072939e+09</td>\n      <td>1000.000000</td>\n      <td>380001.000000</td>\n      <td>2.295600e+06</td>\n      <td>2.294200e+06</td>\n      <td>6.000000</td>\n    </tr>\n  </tbody>\n</table>\n</div>"
          },
          "metadata": {}
        }
      ],
      "execution_count": 21
    },
    {
      "cell_type": "markdown",
      "source": "There are problems with two pieces of data: minimum value of productID is 0 and minimum value of payMoney is negative.",
      "metadata": {}
    },
    {
      "cell_type": "code",
      "source": "df.info()",
      "metadata": {
        "trusted": true
      },
      "outputs": [
        {
          "name": "stdout",
          "text": "<class 'pandas.core.frame.DataFrame'>\nIndex: 104557 entries, 1 to 104557\nData columns (total 10 columns):\n #   Column      Non-Null Count   Dtype \n---  ------      --------------   ----- \n 0   orderId     104557 non-null  int64 \n 1   userId      104557 non-null  int64 \n 2   productId   104557 non-null  int64 \n 3   cityId      104557 non-null  int64 \n 4   price       104557 non-null  int64 \n 5   payMoney    104557 non-null  int64 \n 6   channelId   104549 non-null  object\n 7   deviceType  104557 non-null  int64 \n 8   createTime  104557 non-null  object\n 9   payTime     104557 non-null  object\ndtypes: int64(7), object(3)\nmemory usage: 7.6+ MB\n",
          "output_type": "stream"
        }
      ],
      "execution_count": 23
    },
    {
      "cell_type": "markdown",
      "source": "As you can see, there are 104557 pieces of data in total, of which 8 pieces of channelID are missing.",
      "metadata": {}
    },
    {
      "cell_type": "markdown",
      "source": "# Cleaning data",
      "metadata": {}
    },
    {
      "cell_type": "markdown",
      "source": "Based on the characteristics of the fields, judgment and cleaning are performed one by one.",
      "metadata": {}
    },
    {
      "cell_type": "markdown",
      "source": "## orderID",
      "metadata": {}
    },
    {
      "cell_type": "markdown",
      "source": "Since the orderID is unique in the system.\n\nCheck to see if there are any duplicate orderIDs. and if there are. it is common to deal with duplicate values last. continue cleaning the other fields first because the other fields may affect the duplicate value.\n",
      "metadata": {}
    },
    {
      "cell_type": "code",
      "source": "df.orderId.unique().size",
      "metadata": {
        "trusted": true
      },
      "outputs": [
        {
          "execution_count": 32,
          "output_type": "execute_result",
          "data": {
            "text/plain": "104530"
          },
          "metadata": {}
        }
      ],
      "execution_count": 32
    },
    {
      "cell_type": "code",
      "source": "df.orderId.size",
      "metadata": {
        "trusted": true
      },
      "outputs": [
        {
          "execution_count": 33,
          "output_type": "execute_result",
          "data": {
            "text/plain": "104557"
          },
          "metadata": {}
        }
      ],
      "execution_count": 33
    },
    {
      "cell_type": "markdown",
      "source": "As can be seen, there are 27 duplicate values for orderID.",
      "metadata": {}
    },
    {
      "cell_type": "markdown",
      "source": "## userID",
      "metadata": {}
    },
    {
      "cell_type": "markdown",
      "source": "The userID can be duplicated, there are no other special requirements. From the df.info() result, the userID is complete and no further cleaning is required.",
      "metadata": {}
    },
    {
      "cell_type": "markdown",
      "source": "## productID",
      "metadata": {}
    },
    {
      "cell_type": "markdown",
      "source": "The minimum value of productId is 0. Let's look at the number of records with a value of 0. There are 177 records. The total number of records is 177, which may be caused by the product being uploaded and downloaded. Delete them after processing the other fields.",
      "metadata": {}
    },
    {
      "cell_type": "code",
      "source": "df.productId[(df.productId == 0)].size",
      "metadata": {
        "trusted": true
      },
      "outputs": [
        {
          "execution_count": 35,
          "output_type": "execute_result",
          "data": {
            "text/plain": "177"
          },
          "metadata": {}
        }
      ],
      "execution_count": 35
    },
    {
      "cell_type": "markdown",
      "source": "## cityID",
      "metadata": {}
    },
    {
      "cell_type": "markdown",
      "source": "cityID is similar to userID in that the values are within the normal range and do not need to be processed further.",
      "metadata": {}
    },
    {
      "cell_type": "markdown",
      "source": "## price",
      "metadata": {
        "tags": [],
        "editable": true,
        "slideshow": {
          "slide_type": ""
        }
      }
    },
    {
      "cell_type": "markdown",
      "source": "price There are no null values and all are greater than 0. but the unit is cents, which by convention needs to be made into dollars.",
      "metadata": {
        "tags": [],
        "editable": true,
        "slideshow": {
          "slide_type": ""
        }
      }
    },
    {
      "cell_type": "code",
      "source": "df.price = df.price / 100",
      "metadata": {
        "trusted": true,
        "tags": [],
        "editable": true,
        "slideshow": {
          "slide_type": ""
        }
      },
      "outputs": [],
      "execution_count": 37
    },
    {
      "cell_type": "markdown",
      "source": "## payMoney",
      "metadata": {
        "tags": [],
        "editable": true,
        "slideshow": {
          "slide_type": ""
        }
      }
    },
    {
      "cell_type": "markdown",
      "source": "payMoney has a negative value, and we can't place an order with a negative value, so we delete the records with a negative value here. There are 6 records in total, so deleting them will have no effect. And convert the unit of payMoney to Yuan.",
      "metadata": {
        "tags": [],
        "editable": true,
        "slideshow": {
          "slide_type": ""
        }
      }
    },
    {
      "cell_type": "code",
      "source": "df[df.payMoney < 0]",
      "metadata": {
        "trusted": true,
        "tags": [],
        "editable": true,
        "slideshow": {
          "slide_type": ""
        }
      },
      "outputs": [
        {
          "execution_count": 38,
          "output_type": "execute_result",
          "data": {
            "text/plain": "         orderId   userId  productId  cityId  price  payMoney   channelId  \\\nid                                                                          \n25344  288096069  2145955        511  230014   1.11     -1000  df9f79c426   \n55044  296608442  4073997        385  120006   1.11     -1000  cbccc0808e   \n66897  316685479  1949907        554   60019  20.84     -1000  9058255c90   \n72556  323229098  2894042        548  220008   1.14     -1000  41a4e91d29   \n81494  311194385  3370399        797   40001   1.16      -990  ea5648bbe2   \n87878  324068352  1873953        602  260003   2.92     -1000  9058255c90   \n\n       deviceType        createTime           payTime  \nid                                                     \n25344           2  11/03/2020 21:32  11/03/2020 21:33  \n55044           2  24/05/2020 08:52  24/05/2020 08:52  \n66897           3  31/03/2020 11:57  31/03/2020 11:57  \n72556           2  09/08/2020 14:24  09/08/2020 14:24  \n81494           1  06/09/2020 11:20  06/09/2020 11:21  \n87878           3  05/10/2020 10:47  05/10/2020 10:47  ",
            "text/html": "<div>\n<style scoped>\n    .dataframe tbody tr th:only-of-type {\n        vertical-align: middle;\n    }\n\n    .dataframe tbody tr th {\n        vertical-align: top;\n    }\n\n    .dataframe thead th {\n        text-align: right;\n    }\n</style>\n<table border=\"1\" class=\"dataframe\">\n  <thead>\n    <tr style=\"text-align: right;\">\n      <th></th>\n      <th>orderId</th>\n      <th>userId</th>\n      <th>productId</th>\n      <th>cityId</th>\n      <th>price</th>\n      <th>payMoney</th>\n      <th>channelId</th>\n      <th>deviceType</th>\n      <th>createTime</th>\n      <th>payTime</th>\n    </tr>\n    <tr>\n      <th>id</th>\n      <th></th>\n      <th></th>\n      <th></th>\n      <th></th>\n      <th></th>\n      <th></th>\n      <th></th>\n      <th></th>\n      <th></th>\n      <th></th>\n    </tr>\n  </thead>\n  <tbody>\n    <tr>\n      <th>25344</th>\n      <td>288096069</td>\n      <td>2145955</td>\n      <td>511</td>\n      <td>230014</td>\n      <td>1.11</td>\n      <td>-1000</td>\n      <td>df9f79c426</td>\n      <td>2</td>\n      <td>11/03/2020 21:32</td>\n      <td>11/03/2020 21:33</td>\n    </tr>\n    <tr>\n      <th>55044</th>\n      <td>296608442</td>\n      <td>4073997</td>\n      <td>385</td>\n      <td>120006</td>\n      <td>1.11</td>\n      <td>-1000</td>\n      <td>cbccc0808e</td>\n      <td>2</td>\n      <td>24/05/2020 08:52</td>\n      <td>24/05/2020 08:52</td>\n    </tr>\n    <tr>\n      <th>66897</th>\n      <td>316685479</td>\n      <td>1949907</td>\n      <td>554</td>\n      <td>60019</td>\n      <td>20.84</td>\n      <td>-1000</td>\n      <td>9058255c90</td>\n      <td>3</td>\n      <td>31/03/2020 11:57</td>\n      <td>31/03/2020 11:57</td>\n    </tr>\n    <tr>\n      <th>72556</th>\n      <td>323229098</td>\n      <td>2894042</td>\n      <td>548</td>\n      <td>220008</td>\n      <td>1.14</td>\n      <td>-1000</td>\n      <td>41a4e91d29</td>\n      <td>2</td>\n      <td>09/08/2020 14:24</td>\n      <td>09/08/2020 14:24</td>\n    </tr>\n    <tr>\n      <th>81494</th>\n      <td>311194385</td>\n      <td>3370399</td>\n      <td>797</td>\n      <td>40001</td>\n      <td>1.16</td>\n      <td>-990</td>\n      <td>ea5648bbe2</td>\n      <td>1</td>\n      <td>06/09/2020 11:20</td>\n      <td>06/09/2020 11:21</td>\n    </tr>\n    <tr>\n      <th>87878</th>\n      <td>324068352</td>\n      <td>1873953</td>\n      <td>602</td>\n      <td>260003</td>\n      <td>2.92</td>\n      <td>-1000</td>\n      <td>9058255c90</td>\n      <td>3</td>\n      <td>05/10/2020 10:47</td>\n      <td>05/10/2020 10:47</td>\n    </tr>\n  </tbody>\n</table>\n</div>"
          },
          "metadata": {}
        }
      ],
      "execution_count": 38
    },
    {
      "cell_type": "code",
      "source": "df.drop(index=df[df.payMoney < 0].index, inplace=True)",
      "metadata": {
        "trusted": true,
        "tags": [],
        "editable": true,
        "slideshow": {
          "slide_type": ""
        }
      },
      "outputs": [],
      "execution_count": 39
    },
    {
      "cell_type": "code",
      "source": "df[df.payMoney < 0].index",
      "metadata": {
        "trusted": true,
        "tags": [],
        "editable": true,
        "slideshow": {
          "slide_type": ""
        }
      },
      "outputs": [
        {
          "execution_count": 40,
          "output_type": "execute_result",
          "data": {
            "text/plain": "Index([], dtype='int64', name='id')"
          },
          "metadata": {}
        }
      ],
      "execution_count": 40
    },
    {
      "cell_type": "code",
      "source": "df.payMoney = df.payMoney / 100",
      "metadata": {
        "trusted": true,
        "tags": [],
        "editable": true,
        "slideshow": {
          "slide_type": ""
        }
      },
      "outputs": [],
      "execution_count": 41
    },
    {
      "cell_type": "markdown",
      "source": "## channelId",
      "metadata": {
        "tags": [],
        "editable": true,
        "slideshow": {
          "slide_type": ""
        }
      }
    },
    {
      "cell_type": "markdown",
      "source": "channelId According to the result of info, there are 8 missing data, which may be due to incomplete entry. The amount of data is small and will not affect the analysis, so it can be deleted directly.",
      "metadata": {
        "tags": [],
        "editable": true,
        "slideshow": {
          "slide_type": ""
        }
      }
    },
    {
      "cell_type": "code",
      "source": "df[df.channelId.isnull()]",
      "metadata": {
        "trusted": true,
        "tags": [],
        "editable": true,
        "slideshow": {
          "slide_type": ""
        }
      },
      "outputs": [
        {
          "execution_count": 42,
          "output_type": "execute_result",
          "data": {
            "text/plain": "          orderId   userId  productId  cityId  price  payMoney channelId  \\\nid                                                                         \n19086   284008366  3309847        698  240001  21.64    2040.0       NaN   \n38175   287706890  2799815        823   70001   7.60     749.0       NaN   \n48073   248057459  3970570        142  130001   4.74     400.0       NaN   \n75949   266847859  3761925        649  120006   2.57     257.0       NaN   \n100952  283627429  4156620        269  280001   4.84     410.0       NaN   \n100953  346836140  3751526        738  100013   1.05      80.0       NaN   \n100954  352853915  2229389        786  240001   4.74     440.0       NaN   \n100955  379473081  4531810         18  180009   1.46      50.0       NaN   \n\n        deviceType        createTime           payTime  \nid                                                      \n19086            2  08/03/2020 22:36  08/03/2020 22:36  \n38175            3  10/06/2020 22:30  10/06/2020 22:30  \n48073            2  30/03/2020 12:59  30/03/2020 12:59  \n75949            2  19/08/2020 08:46  19/08/2020 08:46  \n100952           2  13/12/2020 13:24  13/12/2020 14:47  \n100953           1  13/12/2020 13:47  13/12/2020 13:47  \n100954           2  13/12/2020 16:54  13/12/2020 16:55  \n100955           3  13/12/2020 20:18  13/12/2020 20:18  ",
            "text/html": "<div>\n<style scoped>\n    .dataframe tbody tr th:only-of-type {\n        vertical-align: middle;\n    }\n\n    .dataframe tbody tr th {\n        vertical-align: top;\n    }\n\n    .dataframe thead th {\n        text-align: right;\n    }\n</style>\n<table border=\"1\" class=\"dataframe\">\n  <thead>\n    <tr style=\"text-align: right;\">\n      <th></th>\n      <th>orderId</th>\n      <th>userId</th>\n      <th>productId</th>\n      <th>cityId</th>\n      <th>price</th>\n      <th>payMoney</th>\n      <th>channelId</th>\n      <th>deviceType</th>\n      <th>createTime</th>\n      <th>payTime</th>\n    </tr>\n    <tr>\n      <th>id</th>\n      <th></th>\n      <th></th>\n      <th></th>\n      <th></th>\n      <th></th>\n      <th></th>\n      <th></th>\n      <th></th>\n      <th></th>\n      <th></th>\n    </tr>\n  </thead>\n  <tbody>\n    <tr>\n      <th>19086</th>\n      <td>284008366</td>\n      <td>3309847</td>\n      <td>698</td>\n      <td>240001</td>\n      <td>21.64</td>\n      <td>2040.0</td>\n      <td>NaN</td>\n      <td>2</td>\n      <td>08/03/2020 22:36</td>\n      <td>08/03/2020 22:36</td>\n    </tr>\n    <tr>\n      <th>38175</th>\n      <td>287706890</td>\n      <td>2799815</td>\n      <td>823</td>\n      <td>70001</td>\n      <td>7.60</td>\n      <td>749.0</td>\n      <td>NaN</td>\n      <td>3</td>\n      <td>10/06/2020 22:30</td>\n      <td>10/06/2020 22:30</td>\n    </tr>\n    <tr>\n      <th>48073</th>\n      <td>248057459</td>\n      <td>3970570</td>\n      <td>142</td>\n      <td>130001</td>\n      <td>4.74</td>\n      <td>400.0</td>\n      <td>NaN</td>\n      <td>2</td>\n      <td>30/03/2020 12:59</td>\n      <td>30/03/2020 12:59</td>\n    </tr>\n    <tr>\n      <th>75949</th>\n      <td>266847859</td>\n      <td>3761925</td>\n      <td>649</td>\n      <td>120006</td>\n      <td>2.57</td>\n      <td>257.0</td>\n      <td>NaN</td>\n      <td>2</td>\n      <td>19/08/2020 08:46</td>\n      <td>19/08/2020 08:46</td>\n    </tr>\n    <tr>\n      <th>100952</th>\n      <td>283627429</td>\n      <td>4156620</td>\n      <td>269</td>\n      <td>280001</td>\n      <td>4.84</td>\n      <td>410.0</td>\n      <td>NaN</td>\n      <td>2</td>\n      <td>13/12/2020 13:24</td>\n      <td>13/12/2020 14:47</td>\n    </tr>\n    <tr>\n      <th>100953</th>\n      <td>346836140</td>\n      <td>3751526</td>\n      <td>738</td>\n      <td>100013</td>\n      <td>1.05</td>\n      <td>80.0</td>\n      <td>NaN</td>\n      <td>1</td>\n      <td>13/12/2020 13:47</td>\n      <td>13/12/2020 13:47</td>\n    </tr>\n    <tr>\n      <th>100954</th>\n      <td>352853915</td>\n      <td>2229389</td>\n      <td>786</td>\n      <td>240001</td>\n      <td>4.74</td>\n      <td>440.0</td>\n      <td>NaN</td>\n      <td>2</td>\n      <td>13/12/2020 16:54</td>\n      <td>13/12/2020 16:55</td>\n    </tr>\n    <tr>\n      <th>100955</th>\n      <td>379473081</td>\n      <td>4531810</td>\n      <td>18</td>\n      <td>180009</td>\n      <td>1.46</td>\n      <td>50.0</td>\n      <td>NaN</td>\n      <td>3</td>\n      <td>13/12/2020 20:18</td>\n      <td>13/12/2020 20:18</td>\n    </tr>\n  </tbody>\n</table>\n</div>"
          },
          "metadata": {}
        }
      ],
      "execution_count": 42
    },
    {
      "cell_type": "code",
      "source": "df.drop(index=df[df.channelId.isnull()].index, inplace=True)",
      "metadata": {
        "trusted": true,
        "tags": [],
        "editable": true,
        "slideshow": {
          "slide_type": ""
        }
      },
      "outputs": [],
      "execution_count": 43
    },
    {
      "cell_type": "code",
      "source": "df[df.channelId.isnull()]",
      "metadata": {
        "trusted": true,
        "tags": [],
        "editable": true,
        "slideshow": {
          "slide_type": ""
        }
      },
      "outputs": [
        {
          "execution_count": 44,
          "output_type": "execute_result",
          "data": {
            "text/plain": "Empty DataFrame\nColumns: [orderId, userId, productId, cityId, price, payMoney, channelId, deviceType, createTime, payTime]\nIndex: []",
            "text/html": "<div>\n<style scoped>\n    .dataframe tbody tr th:only-of-type {\n        vertical-align: middle;\n    }\n\n    .dataframe tbody tr th {\n        vertical-align: top;\n    }\n\n    .dataframe thead th {\n        text-align: right;\n    }\n</style>\n<table border=\"1\" class=\"dataframe\">\n  <thead>\n    <tr style=\"text-align: right;\">\n      <th></th>\n      <th>orderId</th>\n      <th>userId</th>\n      <th>productId</th>\n      <th>cityId</th>\n      <th>price</th>\n      <th>payMoney</th>\n      <th>channelId</th>\n      <th>deviceType</th>\n      <th>createTime</th>\n      <th>payTime</th>\n    </tr>\n    <tr>\n      <th>id</th>\n      <th></th>\n      <th></th>\n      <th></th>\n      <th></th>\n      <th></th>\n      <th></th>\n      <th></th>\n      <th></th>\n      <th></th>\n      <th></th>\n    </tr>\n  </thead>\n  <tbody>\n  </tbody>\n</table>\n</div>"
          },
          "metadata": {}
        }
      ],
      "execution_count": 44
    },
    {
      "cell_type": "markdown",
      "source": "## createTime and payTime",
      "metadata": {
        "tags": [],
        "editable": true,
        "slideshow": {
          "slide_type": ""
        }
      }
    },
    {
      "cell_type": "markdown",
      "source": "Neither of them has null, but here we need to count the data in 2020, so we delete the createTime non-2020 data.\n\nFirst convert createTime and payTime to datetime format.",
      "metadata": {
        "tags": [],
        "editable": true,
        "slideshow": {
          "slide_type": ""
        }
      }
    },
    {
      "cell_type": "code",
      "source": "df.createTime = pd.to_datetime(df.createTime, format=\"%d/%m/%Y %H:%M\")\ndf.payTime = pd.to_datetime(df.payTime, format=\"%d/%m/%Y %H:%M\")\ndf.dtypes",
      "metadata": {
        "trusted": true,
        "tags": [],
        "editable": true,
        "slideshow": {
          "slide_type": ""
        }
      },
      "outputs": [
        {
          "execution_count": 46,
          "output_type": "execute_result",
          "data": {
            "text/plain": "orderId                int64\nuserId                 int64\nproductId              int64\ncityId                 int64\nprice                float64\npayMoney             float64\nchannelId             object\ndeviceType             int64\ncreateTime    datetime64[ns]\npayTime       datetime64[ns]\ndtype: object"
          },
          "metadata": {}
        }
      ],
      "execution_count": 46
    },
    {
      "cell_type": "code",
      "source": "import datetime\nstartTime = datetime.datetime(2020, 1, 1)\nendTime = datetime.datetime(2020, 12, 31, 23, 59, 59)",
      "metadata": {
        "trusted": true,
        "tags": [],
        "editable": true,
        "slideshow": {
          "slide_type": ""
        }
      },
      "outputs": [],
      "execution_count": 47
    },
    {
      "cell_type": "code",
      "source": "df[df.createTime < startTime]\ndf.drop(index=df[df.createTime < startTime].index, inplace=True) \ndf.drop(index=df[df.createTime > df.payTime].index, inplace=True)\ndf[df.createTime < startTime]",
      "metadata": {
        "trusted": true,
        "tags": [],
        "editable": true,
        "slideshow": {
          "slide_type": ""
        }
      },
      "outputs": [
        {
          "execution_count": 48,
          "output_type": "execute_result",
          "data": {
            "text/plain": "Empty DataFrame\nColumns: [orderId, userId, productId, cityId, price, payMoney, channelId, deviceType, createTime, payTime]\nIndex: []",
            "text/html": "<div>\n<style scoped>\n    .dataframe tbody tr th:only-of-type {\n        vertical-align: middle;\n    }\n\n    .dataframe tbody tr th {\n        vertical-align: top;\n    }\n\n    .dataframe thead th {\n        text-align: right;\n    }\n</style>\n<table border=\"1\" class=\"dataframe\">\n  <thead>\n    <tr style=\"text-align: right;\">\n      <th></th>\n      <th>orderId</th>\n      <th>userId</th>\n      <th>productId</th>\n      <th>cityId</th>\n      <th>price</th>\n      <th>payMoney</th>\n      <th>channelId</th>\n      <th>deviceType</th>\n      <th>createTime</th>\n      <th>payTime</th>\n    </tr>\n    <tr>\n      <th>id</th>\n      <th></th>\n      <th></th>\n      <th></th>\n      <th></th>\n      <th></th>\n      <th></th>\n      <th></th>\n      <th></th>\n      <th></th>\n      <th></th>\n    </tr>\n  </thead>\n  <tbody>\n  </tbody>\n</table>\n</div>"
          },
          "metadata": {}
        }
      ],
      "execution_count": 48
    },
    {
      "cell_type": "code",
      "source": "df[df.createTime > endTime]",
      "metadata": {
        "trusted": true,
        "tags": [],
        "editable": true,
        "slideshow": {
          "slide_type": ""
        }
      },
      "outputs": [
        {
          "execution_count": 49,
          "output_type": "execute_result",
          "data": {
            "text/plain": "Empty DataFrame\nColumns: [orderId, userId, productId, cityId, price, payMoney, channelId, deviceType, createTime, payTime]\nIndex: []",
            "text/html": "<div>\n<style scoped>\n    .dataframe tbody tr th:only-of-type {\n        vertical-align: middle;\n    }\n\n    .dataframe tbody tr th {\n        vertical-align: top;\n    }\n\n    .dataframe thead th {\n        text-align: right;\n    }\n</style>\n<table border=\"1\" class=\"dataframe\">\n  <thead>\n    <tr style=\"text-align: right;\">\n      <th></th>\n      <th>orderId</th>\n      <th>userId</th>\n      <th>productId</th>\n      <th>cityId</th>\n      <th>price</th>\n      <th>payMoney</th>\n      <th>channelId</th>\n      <th>deviceType</th>\n      <th>createTime</th>\n      <th>payTime</th>\n    </tr>\n    <tr>\n      <th>id</th>\n      <th></th>\n      <th></th>\n      <th></th>\n      <th></th>\n      <th></th>\n      <th></th>\n      <th></th>\n      <th></th>\n      <th></th>\n      <th></th>\n    </tr>\n  </thead>\n  <tbody>\n  </tbody>\n</table>\n</div>"
          },
          "metadata": {}
        }
      ],
      "execution_count": 49
    },
    {
      "cell_type": "code",
      "source": "df[df.payTime < startTime]",
      "metadata": {
        "trusted": true,
        "tags": [],
        "editable": true,
        "slideshow": {
          "slide_type": ""
        }
      },
      "outputs": [
        {
          "execution_count": 50,
          "output_type": "execute_result",
          "data": {
            "text/plain": "Empty DataFrame\nColumns: [orderId, userId, productId, cityId, price, payMoney, channelId, deviceType, createTime, payTime]\nIndex: []",
            "text/html": "<div>\n<style scoped>\n    .dataframe tbody tr th:only-of-type {\n        vertical-align: middle;\n    }\n\n    .dataframe tbody tr th {\n        vertical-align: top;\n    }\n\n    .dataframe thead th {\n        text-align: right;\n    }\n</style>\n<table border=\"1\" class=\"dataframe\">\n  <thead>\n    <tr style=\"text-align: right;\">\n      <th></th>\n      <th>orderId</th>\n      <th>userId</th>\n      <th>productId</th>\n      <th>cityId</th>\n      <th>price</th>\n      <th>payMoney</th>\n      <th>channelId</th>\n      <th>deviceType</th>\n      <th>createTime</th>\n      <th>payTime</th>\n    </tr>\n    <tr>\n      <th>id</th>\n      <th></th>\n      <th></th>\n      <th></th>\n      <th></th>\n      <th></th>\n      <th></th>\n      <th></th>\n      <th></th>\n      <th></th>\n      <th></th>\n    </tr>\n  </thead>\n  <tbody>\n  </tbody>\n</table>\n</div>"
          },
          "metadata": {}
        }
      ],
      "execution_count": 50
    },
    {
      "cell_type": "markdown",
      "source": "## Overall Cleaning",
      "metadata": {
        "tags": [],
        "editable": true,
        "slideshow": {
          "slide_type": ""
        }
      }
    },
    {
      "cell_type": "markdown",
      "source": "1. Delete records with duplicate orderId\n2. Delete the record with productId 0.",
      "metadata": {}
    },
    {
      "cell_type": "code",
      "source": "df.drop(index=df[df.orderId.duplicated()].index, inplace=True) \ndf.orderId.unique().size",
      "metadata": {
        "trusted": true,
        "tags": [],
        "editable": true,
        "slideshow": {
          "slide_type": ""
        }
      },
      "outputs": [
        {
          "execution_count": 51,
          "output_type": "execute_result",
          "data": {
            "text/plain": "104506"
          },
          "metadata": {}
        }
      ],
      "execution_count": 51
    },
    {
      "cell_type": "code",
      "source": "df.drop(index=df[df.productId==0].index, inplace=True)",
      "metadata": {
        "trusted": true,
        "tags": [],
        "editable": true,
        "slideshow": {
          "slide_type": ""
        }
      },
      "outputs": [],
      "execution_count": 52
    },
    {
      "cell_type": "markdown",
      "source": "# Analyzing data",
      "metadata": {
        "tags": [],
        "editable": true,
        "slideshow": {
          "slide_type": ""
        }
      }
    },
    {
      "cell_type": "markdown",
      "source": "## View data in general",
      "metadata": {
        "tags": [],
        "editable": true,
        "slideshow": {
          "slide_type": ""
        }
      }
    },
    {
      "cell_type": "code",
      "source": "#Total orders, total users placing orders, total sales, number of items with running water\n\nprint(df.orderId.count()) \nprint(df.userId.unique().size) \nprint(df.payMoney.sum()/100)\nprint(df.productId.unique().size)",
      "metadata": {
        "trusted": true,
        "tags": [],
        "editable": true,
        "slideshow": {
          "slide_type": ""
        }
      },
      "outputs": [
        {
          "name": "stdout",
          "text": "104329\n102447\n906663.997\n1000\n",
          "output_type": "stream"
        }
      ],
      "execution_count": 53
    },
    {
      "cell_type": "markdown",
      "source": "## Merchandise sales and sales analysis",
      "metadata": {}
    },
    {
      "cell_type": "code",
      "source": "#Top 10 and Bottom 10 Selling Categories\nproductId_orderCount = df.groupby('productId').count() ['orderId'].sort_values(ascending=False)\nprint(productId_orderCount.head(10))\nprint(productId_orderCount.tail(10))",
      "metadata": {
        "trusted": true,
        "tags": [],
        "editable": true,
        "slideshow": {
          "slide_type": ""
        }
      },
      "outputs": [
        {
          "name": "stdout",
          "text": "productId\n895    354\n762    350\n103    334\n587    303\n385    302\n60     301\n38     301\n403    297\n345    292\n823    288\nName: orderId, dtype: int64\nproductId\n948     29\n856     28\n621     27\n272     26\n563     24\n347     21\n597     19\n468     18\n986     16\n1000    13\nName: orderId, dtype: int64\n",
          "output_type": "stream"
        }
      ],
      "execution_count": 54
    },
    {
      "cell_type": "code",
      "source": "# Top 10 and bottom 10 sales categories\nproductId_totalPay = df.groupby('productId')['payMoney'].sum().sort_values(ascending=False)\nprint(productId_totalPay.head(10))\nprint(productId_totalPay.tail(10))",
      "metadata": {
        "trusted": true,
        "tags": [],
        "editable": true,
        "slideshow": {
          "slide_type": ""
        }
      },
      "outputs": [
        {
          "name": "stdout",
          "text": "productId\n385    427522.1\n61     361572.0\n103    344641.2\n405    339525.0\n720    322405.1\n345    320162.2\n698    318458.6\n182    296600.0\n383    280790.0\n396    269556.0\nName: payMoney, dtype: float64\nproductId\n310     22879.0\n847     22869.0\n454     22535.0\n817     22509.0\n597     21847.0\n408     18111.0\n986     14784.0\n964     14238.0\n1000    12169.0\n347     12070.0\nName: payMoney, dtype: float64\n",
          "output_type": "stream"
        }
      ],
      "execution_count": 59
    },
    {
      "cell_type": "code",
      "source": "#See the intersection of sales and sales of the last 100 items\nproblem_productIds = productId_totalPay.tail(100).index.intersection(productId_orderCount.tail(100).index)\nprint(problem_productIds)",
      "metadata": {
        "trusted": true,
        "tags": [],
        "editable": true,
        "slideshow": {
          "slide_type": ""
        }
      },
      "outputs": [
        {
          "name": "stdout",
          "text": "Index([  14,  807,  599,  676,    7,  469,  577,  551,  318,  220,  528,  303,\n        314,  359,  629,  582,  985,  218,  578,  227,  277,  145,  855,  586,\n        958,   91,  856,  948,  859,  874,  806,  272,  352,  392,   27,  460,\n        436,  468,  579,  868,  137,   16,  590,  247,  569,  242,  104,  621,\n        478,  310,  847,  454,  817,  597,  408,  986,  964, 1000,  347],\n      dtype='int64', name='productId')\n",
          "output_type": "stream"
        }
      ],
      "execution_count": 60
    },
    {
      "cell_type": "markdown",
      "source": "The analysis shows that the above mentioned items with poor sales and sales volume are discussed with the business to determine if they should be optimized or taken off the shelves.",
      "metadata": {
        "tags": [],
        "editable": true,
        "slideshow": {
          "slide_type": ""
        }
      }
    },
    {
      "cell_type": "markdown",
      "source": "## Channel Analysis",
      "metadata": {
        "tags": [],
        "editable": true,
        "slideshow": {
          "slide_type": ""
        }
      }
    },
    {
      "cell_type": "code",
      "source": "#Top 10 selling channels\nproductId_channel_orderCount = df.groupby('channelId').count() ['orderId'].sort_values(ascending=False)\nprint(productId_channel_orderCount.head(10))",
      "metadata": {
        "trusted": true,
        "tags": [],
        "editable": true,
        "slideshow": {
          "slide_type": ""
        }
      },
      "outputs": [
        {
          "name": "stdout",
          "text": "channelId\n9058255c90    38822\n29d55d09c6     7411\n41a4e91d29     6737\ndf9f79c426     5929\n46d5cea30d     4943\ne0e6019897     3686\ne7dc8ef259     3530\nad7e4ca9ae     2887\n4c33002d9a     2818\ne22babe5d4     2415\nName: orderId, dtype: int64\n",
          "output_type": "stream"
        }
      ],
      "execution_count": 61
    },
    {
      "cell_type": "code",
      "source": "# Sales across channels and commodities\nproductId_channel_orderCount = df.groupby(['channelId','productId']).count() ['orderId'].sort_values(ascending=False)\nprint(productId_channel_orderCount)",
      "metadata": {
        "tags": [],
        "editable": true,
        "slideshow": {
          "slide_type": ""
        },
        "trusted": true
      },
      "outputs": [
        {
          "name": "stdout",
          "text": "channelId   productId\n9058255c90  762          132\n            385          125\n            895          123\n            103          120\n            613          115\n                        ... \n871e94eabc  627            1\n            613            1\n            584            1\n            578            1\nfffb629ba1  785            1\nName: orderId, Length: 28468, dtype: int64\n",
          "output_type": "stream"
        }
      ],
      "execution_count": 62
    },
    {
      "cell_type": "code",
      "source": "#Sales by channel, by product\nproductId_channel_totalPay = df.groupby(['channelId','productId']) ['payMoney'].sum().sort_values(ascending=False)\nprint(productId_channel_totalPay)",
      "metadata": {
        "trusted": true,
        "tags": [],
        "editable": true,
        "slideshow": {
          "slide_type": ""
        }
      },
      "outputs": [
        {
          "name": "stdout",
          "text": "channelId   productId\n9058255c90  385          188085.1\n            405          163446.0\n            345          150250.2\n            61           139829.0\n            720          130654.0\n                           ...   \ne0e6019897  537               0.0\na33b212a84  248               0.0\n            338               0.0\n8664ebb1ed  507               0.0\n5fb938db89  385               0.0\nName: payMoney, Length: 28468, dtype: float64\n",
          "output_type": "stream"
        }
      ],
      "execution_count": 65
    },
    {
      "cell_type": "markdown",
      "source": "Obtain the cost of the top ten selling channels, further analyze the overall channel effectiveness, and analyze the differences in merchandise sales by channel.",
      "metadata": {
        "tags": [],
        "editable": true,
        "slideshow": {
          "slide_type": ""
        }
      }
    },
    {
      "cell_type": "markdown",
      "source": "## Order Time Analysis",
      "metadata": {
        "tags": [],
        "editable": true,
        "slideshow": {
          "slide_type": ""
        }
      }
    },
    {
      "cell_type": "markdown",
      "source": "View the time distribution of orders placed, by hour, by week.",
      "metadata": {
        "tags": [],
        "editable": true,
        "slideshow": {
          "slide_type": ""
        }
      }
    },
    {
      "cell_type": "code",
      "source": "df['orderHour'] = df.createTime.dt.hour\ndf.groupby('orderHour').count()['orderId'].plot()",
      "metadata": {
        "trusted": true,
        "tags": [],
        "editable": true,
        "slideshow": {
          "slide_type": ""
        }
      },
      "outputs": [
        {
          "execution_count": 66,
          "output_type": "execute_result",
          "data": {
            "text/plain": "<AxesSubplot:xlabel='orderHour'>"
          },
          "metadata": {}
        },
        {
          "output_type": "display_data",
          "data": {
            "text/plain": "<Figure size 640x480 with 1 Axes>",
            "image/png": "[encoded data removed]"
          },
          "metadata": {}
        }
      ],
      "execution_count": 66
    },
    {
      "cell_type": "code",
      "source": "df['orderWeek'] = df.createTime.dt.dayofweek\ndf.groupby('orderWeek').count()['orderId']",
      "metadata": {
        "trusted": true,
        "tags": [],
        "editable": true,
        "slideshow": {
          "slide_type": ""
        }
      },
      "outputs": [
        {
          "execution_count": 67,
          "output_type": "execute_result",
          "data": {
            "text/plain": "orderWeek\n0    12932\n1    13794\n2    16198\n3    19496\n4    16922\n5    12503\n6    12484\nName: orderId, dtype: int64"
          },
          "metadata": {}
        }
      ],
      "execution_count": 67
    },
    {
      "cell_type": "markdown",
      "source": "It can be seen from this:\n\nTwo peak periods exist each day, 12-14pm and around 20pm.\nEvery week, Saturday has the most volume, followed by Friday and Sunday.\nIt is appropriate to place more promotions at this stage.",
      "metadata": {
        "tags": [],
        "editable": true,
        "slideshow": {
          "slide_type": ""
        }
      }
    },
    {
      "cell_type": "code",
      "source": "",
      "metadata": {
        "trusted": true
      },
      "outputs": [],
      "execution_count": null
    }
  ]
}